{
 "cells": [
  {
   "cell_type": "code",
   "execution_count": 1,
   "metadata": {
    "collapsed": false
   },
   "outputs": [
    {
     "name": "stdout",
     "output_type": "stream",
     "text": [
      "ID=106\n",
      "\n",
      "Test Failed\n"
     ]
    }
   ],
   "source": [
    "#Test two to see if the last variable (no. 1923) is the same as what is shown in the tps file\n",
    "array = [] #create empty array\n",
    "with open('/home/admin736/Desktop/share-git/sandbox-1/nbir012-diptera-morpho/geo-morph-data.TPS','r') as file: #define file and open required tps file\n",
    "    for line in file: #create loop using each line (string) within the file\n",
    "        line = line.strip('\\r\\n') #define line by removing the newline fluff (\\r\\n)\n",
    "        array.append(line) #append (add) the outcome into the original blank array we created above.\n",
    "                \n",
    "values = array[1923].split(' ') #defining values as individual components in the array split by blank space this takes the 0th one\n",
    "splits = \"\" #defining splits as blank space\n",
    "for splitValues in values: #creating a loop which splits the values within \n",
    "    splits = splits + splitValues\n",
    "    print(splitValues)\n",
    "    \n",
    "if splitValues == 'ID=106':\n",
    "    print('Test Passed')\n",
    "else:\n",
    "    print('Test Failed')"
   ]
  },
  {
   "cell_type": "code",
   "execution_count": null,
   "metadata": {
    "collapsed": true
   },
   "outputs": [],
   "source": []
  }
 ],
 "metadata": {
  "kernelspec": {
   "display_name": "Python [py35]",
   "language": "python",
   "name": "Python [py35]"
  },
  "language_info": {
   "codemirror_mode": {
    "name": "ipython",
    "version": 3
   },
   "file_extension": ".py",
   "mimetype": "text/x-python",
   "name": "python",
   "nbconvert_exporter": "python",
   "pygments_lexer": "ipython3",
   "version": "3.5.2"
  }
 },
 "nbformat": 4,
 "nbformat_minor": 0
}
